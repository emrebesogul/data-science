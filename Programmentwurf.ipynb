{
 "cells": [
  {
   "cell_type": "markdown",
   "metadata": {},
   "source": [
    "## Data Science Programmentwurf am Beispieldatensatz mit Fahrzeugen\n",
    "\n",
    "#### Kurs: Data Science (Wahlfach)\n",
    "#### Abgabetermin: 18.04.2019\n",
    "#### Gruppe: David Marchi & Yunus Emre Besogul"
   ]
  },
  {
   "cell_type": "code",
   "execution_count": 30,
   "metadata": {},
   "outputs": [],
   "source": [
    "# All imports here...\n",
    "\n",
    "import pandas as pd\n",
    "import matplotlib.pyplot as plt\n",
    "import seaborn as sns\n",
    "import numpy as np\n",
    "from scipy.stats import norm\n",
    "from scipy import stats"
   ]
  },
  {
   "cell_type": "code",
   "execution_count": 103,
   "metadata": {
    "scrolled": false
   },
   "outputs": [
    {
     "name": "stdout",
     "output_type": "stream",
     "text": [
      "    mpg  cylinders  displacement     hp  weight  acceleration  year  origin                       name\n",
      "0  18.0        8.0         307.0  130.0  3504.0          12.0  70.0     1.0  chevrolet chevelle malibu\n",
      "1  15.0        8.0         350.0  165.0  3693.0          11.5  70.0     1.0          buick skylark 320\n",
      "2  18.0        8.0         318.0  150.0  3436.0          11.0  70.0     1.0         plymouth satellite\n",
      "3  16.0        8.0         304.0  150.0  3433.0          12.0  70.0     1.0              amc rebel sst\n",
      "4  17.0        8.0         302.0  140.0  3449.0          10.5  70.0     1.0                ford torino\n",
      "RangeIndex(start=0, stop=406, step=1)\n",
      "Index(['mpg', 'cylinders', 'displacement', 'hp', 'weight', 'acceleration', 'year', 'origin', 'name'], dtype='object')\n"
     ]
    }
   ],
   "source": [
    "# 1. mpg (miles per gallon):           continuous\n",
    "# 2. cylinders:     multi-valued discrete\n",
    "# 3. displacement:  continuous\n",
    "# 4. horsepower (hp):    continuous\n",
    "# 5. weight:        continuous\n",
    "# 6. acceleration:  continuous\n",
    "# 7. model year (year):    multi-valued discrete\n",
    "# 8. origin:        multi-valued discrete\n",
    "# 9. car name (name):      string (unique for each instance)\n",
    "\n",
    "pd.set_option('display.max_columns', None)\n",
    "\n",
    "\n",
    "# Read csv (with space and tab delimeter, remove header and rename columns as explained in \"auto-mpg.names\")\n",
    "col_Names = [\"mpg\", \"cylinders\", \"displacement\", \"hp\", \"weight\", \"acceleration\", \"year\", \"origin\", \"name\"]\n",
    "data = pd.read_csv(\"auto-mpg.data-original\", sep='\\s+', header=None, names=col_Names)\n",
    "\n",
    "# Print csv\n",
    "#print(data)\n",
    "print(data.head())\n",
    "print(data.index)\n",
    "print(data.columns)"
   ]
  },
  {
   "cell_type": "code",
   "execution_count": null,
   "metadata": {},
   "outputs": [],
   "source": []
  },
  {
   "cell_type": "markdown",
   "metadata": {},
   "source": [
    "#### Teil 1: Dieser Fahrzeugdatensatz ist mit Hilfe statistischer Standardfunktionen zu analysieren, zu interpretieren und ggfs. zu bereinigen. Nutzen Sie visuelle, möglichst in die Programmierumgebung eingebettete Darstellungsarten in verschiedenen Diagrammen, um wichtige Zusammenhänge zu visualisieren. Nutzen Sie Kommentare, um zu beschreiben, was jeweils Interessantes zu erkennen ist."
   ]
  },
  {
   "cell_type": "code",
   "execution_count": null,
   "metadata": {},
   "outputs": [],
   "source": []
  },
  {
   "cell_type": "markdown",
   "metadata": {},
   "source": [
    "#### Teil 2: Verwenden Sie zwei verschiedene Vorhersageverfahren, um die PS-Zahl anhand eines gegebenen Datensatzes ohne PS-Zahl vorherzusagen."
   ]
  },
  {
   "cell_type": "code",
   "execution_count": 3,
   "metadata": {},
   "outputs": [],
   "source": [
    "# Linear Regression and Decision Trees"
   ]
  },
  {
   "cell_type": "markdown",
   "metadata": {},
   "source": [
    "#### Teil 3: Nutzen Sie zwei Klassifikationsverfahren, um ein Fahrzeug bei sonstigen gegebenen Daten einer Zylinderzahl zuzuordnen"
   ]
  },
  {
   "cell_type": "code",
   "execution_count": 4,
   "metadata": {},
   "outputs": [],
   "source": [
    "# KNN and Naive Bayes"
   ]
  },
  {
   "cell_type": "markdown",
   "metadata": {},
   "source": [
    "#### Für Teile 2 und 3: Validieren und testen Sie Ihre Ergebnisse jeweils mit Evaluationsmethoden wie diese bei Data Science Projekten üblich sind. Stellen Sie jeweils die Ergebnisse Ihrer Verfahren vergleichend optisch dar und beschreiben Sie das jeweilige Endergebnis. Diskutieren Sie, für welche Lösung Sie sich entscheiden. Optimieren Sie in einer bis maximal drei Iteration(en) die gewählte Lösung. Kommentieren Sie ggfs., welche weiteren Möglichkeiten zur Verbesserung Sie noch anwenden könnten. Erstellen Sie eine Methode, mit der man die Daten, für die eine Vorhersage getroffen werden soll, manuell eingeben kann, und diese einem das Resultat liefert und auch optisch sinnvoll anzeigt."
   ]
  },
  {
   "cell_type": "code",
   "execution_count": 5,
   "metadata": {},
   "outputs": [],
   "source": [
    "# Accuracy, mean error, etc."
   ]
  },
  {
   "cell_type": "code",
   "execution_count": null,
   "metadata": {},
   "outputs": [],
   "source": []
  }
 ],
 "metadata": {
  "kernelspec": {
   "display_name": "Python 3",
   "language": "python",
   "name": "python3"
  },
  "language_info": {
   "codemirror_mode": {
    "name": "ipython",
    "version": 3
   },
   "file_extension": ".py",
   "mimetype": "text/x-python",
   "name": "python",
   "nbconvert_exporter": "python",
   "pygments_lexer": "ipython3",
   "version": "3.7.1"
  }
 },
 "nbformat": 4,
 "nbformat_minor": 2
}
