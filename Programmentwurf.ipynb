{
 "cells": [
  {
   "cell_type": "markdown",
   "metadata": {},
   "source": [
    "## Data Science Programmentwurf am Beispieldatensatz mit Fahrzeugen\n",
    "\n",
    "#### Kurs: Data Science (Wahlfach)\n",
    "#### Abgabetermin: 18.04.2019\n",
    "#### Gruppe: David Marchi & Yunus Emre Besogul"
   ]
  },
  {
   "cell_type": "code",
   "execution_count": 30,
   "metadata": {},
   "outputs": [],
   "source": [
    "# All imports here...\n",
    "\n",
    "import pandas as pd\n",
    "import matplotlib.pyplot as plt\n",
    "import seaborn as sns\n",
    "import numpy as np\n",
    "from scipy.stats import norm\n",
    "from scipy import stats"
   ]
  },
  {
   "cell_type": "code",
   "execution_count": 144,
   "metadata": {
    "scrolled": false
   },
   "outputs": [],
   "source": [
    "# 1. mpg (miles per gallon):           continuous\n",
    "# 2. cylinders:     multi-valued discrete\n",
    "# 3. displacement:  continuous\n",
    "# 4. horsepower (hp):    continuous\n",
    "# 5. weight:        continuous\n",
    "# 6. acceleration:  continuous\n",
    "# 7. model year (year):    multi-valued discrete\n",
    "# 8. origin:        multi-valued discrete\n",
    "# 9. car name (name):      string (unique for each instance)\n",
    "\n",
    "# Set option to print pretty...\n",
    "pd.set_option('display.max_columns', None)\n",
    "\n",
    "# Read csv into as a variable \"df\" (with space and tab delimeter, remove header and rename columns as explained in \"auto-mpg.names\")\n",
    "col_Names = [\"mpg\", \"cylinders\", \"displacement\", \"hp\", \"weight\", \"acceleration\", \"year\", \"origin\", \"name\"]\n",
    "df = pd.read_csv(\"auto-mpg.data-original\", sep='\\s+', header=None, names=col_Names)"
   ]
  },
  {
   "cell_type": "markdown",
   "metadata": {},
   "source": [
    "#### Teil 1: Dieser Fahrzeugdatensatz ist mit Hilfe statistischer Standardfunktionen zu analysieren, zu interpretieren und ggfs. zu bereinigen. Nutzen Sie visuelle, möglichst in die Programmierumgebung eingebettete Darstellungsarten in verschiedenen Diagrammen, um wichtige Zusammenhänge zu visualisieren. Nutzen Sie Kommentare, um zu beschreiben, was jeweils Interessantes zu erkennen ist."
   ]
  },
  {
   "cell_type": "code",
   "execution_count": 162,
   "metadata": {},
   "outputs": [
    {
     "name": "stdout",
     "output_type": "stream",
     "text": [
      "Dimension:\n",
      "(392, 9)\n",
      "\n",
      "False data:\n",
      "mpg             False\n",
      "cylinders       False\n",
      "displacement    False\n",
      "hp              False\n",
      "weight          False\n",
      "acceleration    False\n",
      "year            False\n",
      "origin          False\n",
      "name            False\n",
      "dtype: bool\n",
      "\n",
      "Dimension after cleaning up:\n",
      "(392, 9)\n",
      "\n",
      "Basic statistical details:\n",
      "              mpg   cylinders  displacement          hp       weight  acceleration        year      origin\n",
      "count  392.000000  392.000000    392.000000  392.000000   392.000000    392.000000  392.000000  392.000000\n",
      "mean    23.445918    5.471939    194.411990  104.469388  2977.584184     15.541327   75.979592    1.576531\n",
      "std      7.805007    1.705783    104.644004   38.491160   849.402560      2.758864    3.683737    0.805518\n",
      "min      9.000000    3.000000     68.000000   46.000000  1613.000000      8.000000   70.000000    1.000000\n",
      "25%     17.000000    4.000000    105.000000   75.000000  2225.250000     13.775000   73.000000    1.000000\n",
      "50%     22.750000    4.000000    151.000000   93.500000  2803.500000     15.500000   76.000000    1.000000\n",
      "75%     29.000000    8.000000    275.750000  126.000000  3614.750000     17.025000   79.000000    2.000000\n",
      "max     46.600000    8.000000    455.000000  230.000000  5140.000000     24.800000   82.000000    3.000000\n",
      "\n",
      "Plotting:\n"
     ]
    },
    {
     "data": {
      "text/plain": [
       "<seaborn.axisgrid.FacetGrid at 0x1a248b5a90>"
      ]
     },
     "execution_count": 162,
     "metadata": {},
     "output_type": "execute_result"
    },
    {
     "data": {
      "image/png": "[encoded data removed]",
      "text/plain": [
       "<Figure size 648x216 with 3 Axes>"
      ]
     },
     "metadata": {
      "needs_background": "light"
     },
     "output_type": "display_data"
    }
   ],
   "source": [
    "# Check dimension of Dataframe\n",
    "print(\"Dimension:\")\n",
    "print(df.shape)\n",
    "# ... we have 406 rows of data\n",
    "\n",
    "# Look for false entries (empty, NaN, N/A, ?, ...)\n",
    "print(\"\\nFalse data:\")\n",
    "print(df.isnull().any())\n",
    "# ...we see that there is false data in mpg and horsepower (hp)\n",
    "\n",
    "\n",
    "# Remove false entries...\n",
    "df = df[df['mpg'].notnull()]\n",
    "df = df[df['hp'].notnull()]\n",
    "# Check dimension of Dataframe\n",
    "print(\"\\nDimension after cleaning up:\")\n",
    "print(df.shape)\n",
    "# ...this reduces our dataset to 392. Meaning 14 datarows were corrupt\n",
    "\n",
    "\n",
    "# View some basic statistical details like percentile, mean, std etc. of a Dataframe\n",
    "print(\"\\nBasic statistical details:\")\n",
    "print(df.describe())\n",
    "# ...describe result...\n",
    "# ...we have model years from 1970 to 1982\n",
    "# ...we have 3 origins for a car (Herkunft)\n",
    "# ...we will continue by seperating these 3 origin types and also comparing them\n",
    "\n",
    "# Interesting questions: hp vs. mpg? dependence of mpg and cylinders, weight etc.?\n",
    "\n",
    "# Visualization\n",
    "print(\"\\nPlotting:\")\n",
    "#sns.factorplot(data=df, x=\"year\", y=\"mpg\", col=\"origin\")\n",
    "g = sns.FacetGrid(df, col=\"origin\") \n",
    "g.map(plt.scatter, \"hp\", \"mpg\")"
   ]
  },
  {
   "cell_type": "markdown",
   "metadata": {},
   "source": [
    "#### Teil 2: Verwenden Sie zwei verschiedene Vorhersageverfahren, um die PS-Zahl anhand eines gegebenen Datensatzes ohne PS-Zahl vorherzusagen."
   ]
  },
  {
   "cell_type": "code",
   "execution_count": 3,
   "metadata": {},
   "outputs": [],
   "source": [
    "# Linear Regression and Decision Trees"
   ]
  },
  {
   "cell_type": "markdown",
   "metadata": {},
   "source": [
    "#### Teil 3: Nutzen Sie zwei Klassifikationsverfahren, um ein Fahrzeug bei sonstigen gegebenen Daten einer Zylinderzahl zuzuordnen"
   ]
  },
  {
   "cell_type": "code",
   "execution_count": 4,
   "metadata": {},
   "outputs": [],
   "source": [
    "# KNN and Naive Bayes"
   ]
  },
  {
   "cell_type": "markdown",
   "metadata": {},
   "source": [
    "#### Für Teile 2 und 3: Validieren und testen Sie Ihre Ergebnisse jeweils mit Evaluationsmethoden wie diese bei Data Science Projekten üblich sind. Stellen Sie jeweils die Ergebnisse Ihrer Verfahren vergleichend optisch dar und beschreiben Sie das jeweilige Endergebnis. Diskutieren Sie, für welche Lösung Sie sich entscheiden. Optimieren Sie in einer bis maximal drei Iteration(en) die gewählte Lösung. Kommentieren Sie ggfs., welche weiteren Möglichkeiten zur Verbesserung Sie noch anwenden könnten. Erstellen Sie eine Methode, mit der man die Daten, für die eine Vorhersage getroffen werden soll, manuell eingeben kann, und diese einem das Resultat liefert und auch optisch sinnvoll anzeigt."
   ]
  },
  {
   "cell_type": "code",
   "execution_count": 5,
   "metadata": {},
   "outputs": [],
   "source": [
    "# Accuracy, mean error, etc."
   ]
  },
  {
   "cell_type": "code",
   "execution_count": null,
   "metadata": {},
   "outputs": [],
   "source": []
  }
 ],
 "metadata": {
  "kernelspec": {
   "display_name": "Python 3",
   "language": "python",
   "name": "python3"
  },
  "language_info": {
   "codemirror_mode": {
    "name": "ipython",
    "version": 3
   },
   "file_extension": ".py",
   "mimetype": "text/x-python",
   "name": "python",
   "nbconvert_exporter": "python",
   "pygments_lexer": "ipython3",
   "version": "3.7.1"
  }
 },
 "nbformat": 4,
 "nbformat_minor": 2
}
