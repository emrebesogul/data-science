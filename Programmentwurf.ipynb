{
 "cells": [
  {
   "cell_type": "code",
   "execution_count": 2,
   "metadata": {},
   "outputs": [],
   "source": [
    "import numpy as np\n",
    "from scipy import sparse\n",
    "import pandas as pd\n",
    "import IPython\n",
    "import matplotlib.pyplot as plt\n",
    "import seaborn as sns\n",
    "from sklearn import datasets, linear_model\n",
    "from sklearn.linear_model import LinearRegression\n",
    "from sklearn.model_selection import train_test_split\n",
    "from sklearn.metrics import mean_squared_error, r2_score\n",
    "# from sklearn.cross_validation import cross_val_score\n",
    "from sklearn.model_selection import cross_val_score\n"
   ]
  },
  {
   "cell_type": "code",
   "execution_count": 3,
   "metadata": {},
   "outputs": [
    {
     "data": {
      "text/plain": [
       "'/Users/emre/Data Science DHBW'"
      ]
     },
     "execution_count": 3,
     "metadata": {},
     "output_type": "execute_result"
    }
   ],
   "source": [
    "pwd"
   ]
  },
  {
   "cell_type": "code",
   "execution_count": 4,
   "metadata": {},
   "outputs": [
    {
     "name": "stdout",
     "output_type": "stream",
     "text": [
      "                                                                                                    0\n",
      "0    18.0   8.   307.0      130.0      3504.      12.0   70.  1.\\t\"chevrolet chevelle malibu\"        \n",
      "1    15.0   8.   350.0      165.0      3693.      11.5   70.  1.\\t\"buick skylark 320\"                \n",
      "2    18.0   8.   318.0      150.0      3436.      11.0   70.  1.\\t\"plymouth satellite\"               \n",
      "3    16.0   8.   304.0      150.0      3433.      12.0   70.  1.\\t\"amc rebel sst\"                    \n",
      "4    17.0   8.   302.0      140.0      3449.      10.5   70.  1.\\t\"ford torino\"                      \n",
      "5    15.0   8.   429.0      198.0      4341.      10.0   70.  1.\\t\"ford galaxie 500\"                 \n",
      "6    14.0   8.   454.0      220.0      4354.       9.0   70.  1.\\t\"chevrolet impala\"                 \n",
      "7    14.0   8.   440.0      215.0      4312.       8.5   70.  1.\\t\"plymouth fury iii\"                \n",
      "8    14.0   8.   455.0      225.0      4425.      10.0   70.  1.\\t\"pontiac catalina\"                 \n",
      "9    15.0   8.   390.0      190.0      3850.       8.5   70.  1.\\t\"amc ambassador dpl\"               \n",
      "10   NA     4.   133.0      115.0      3090.      17.5   70.  2.\\t\"citroen ds-21 pallas\"             \n",
      "11   NA     8.   350.0      165.0      4142.      11.5   70.  1.\\t\"chevrolet chevelle concours (sw)\" \n",
      "12   NA     8.   351.0      153.0      4034.      11.0   70.  1.\\t\"ford torino (sw)\"                 \n",
      "13   NA     8.   383.0      175.0      4166.      10.5   70.  1.\\t\"plymouth satellite (sw)\"          \n",
      "14   NA     8.   360.0      175.0      3850.      11.0   70.  1.\\t\"amc rebel sst (sw)\"               \n",
      "15   15.0   8.   383.0      170.0      3563.      10.0   70.  1.\\t\"dodge challenger se\"              \n",
      "16   14.0   8.   340.0      160.0      3609.       8.0   70.  1.\\t\"plymouth 'cuda 340\"               \n",
      "17   NA     8.   302.0      140.0      3353.       8.0   70.  1.\\t\"ford mustang boss 302\"            \n",
      "18   15.0   8.   400.0      150.0      3761.       9.5   70.  1.\\t\"chevrolet monte carlo\"            \n",
      "19   14.0   8.   455.0      225.0      3086.      10.0   70.  1.\\t\"buick estate wagon (sw)\"          \n",
      "20   24.0   4.   113.0      95.00      2372.      15.0   70.  3.\\t\"toyota corona mark ii\"            \n",
      "21   22.0   6.   198.0      95.00      2833.      15.5   70.  1.\\t\"plymouth duster\"                  \n",
      "22   18.0   6.   199.0      97.00      2774.      15.5   70.  1.\\t\"amc hornet\"                       \n",
      "23   21.0   6.   200.0      85.00      2587.      16.0   70.  1.\\t\"ford maverick\"                    \n",
      "24   27.0   4.   97.00      88.00      2130.      14.5   70.  3.\\t\"datsun pl510\"                     \n",
      "25   26.0   4.   97.00      46.00      1835.      20.5   70.  2.\\t\"volkswagen 1131 deluxe sedan\"     \n",
      "26   25.0   4.   110.0      87.00      2672.      17.5   70.  2.\\t\"peugeot 504\"                      \n",
      "27   24.0   4.   107.0      90.00      2430.      14.5   70.  2.\\t\"audi 100 ls\"                      \n",
      "28   25.0   4.   104.0      95.00      2375.      17.5   70.  2.\\t\"saab 99e\"                         \n",
      "29   26.0   4.   121.0      113.0      2234.      12.5   70.  2.\\t\"bmw 2002\"                         \n",
      "..                                                                       ...                         \n",
      "376  27.0   4.   112.0      88.00      2640.      18.6   82.  1.\\t\"chevrolet cavalier wagon\"         \n",
      "377  34.0   4.   112.0      88.00      2395.      18.0   82.  1.\\t\"chevrolet cavalier 2-door\"        \n",
      "378  31.0   4.   112.0      85.00      2575.      16.2   82.  1.\\t\"pontiac j2000 se hatchback\"       \n",
      "379  29.0   4.   135.0      84.00      2525.      16.0   82.  1.\\t\"dodge aries se\"                   \n",
      "380  27.0   4.   151.0      90.00      2735.      18.0   82.  1.\\t\"pontiac phoenix\"                  \n",
      "381  24.0   4.   140.0      92.00      2865.      16.4   82.  1.\\t\"ford fairmont futura\"             \n",
      "382  23.0   4.   151.0      NA         3035.      20.5   82.  1.\\t\"amc concord dl\"                   \n",
      "383  36.0   4.   105.0      74.00      1980.      15.3   82.  2.\\t\"volkswagen rabbit l\"              \n",
      "384  37.0   4.   91.00      68.00      2025.      18.2   82.  3.\\t\"mazda glc custom l\"               \n",
      "385  31.0   4.   91.00      68.00      1970.      17.6   82.  3.\\t\"mazda glc custom\"                 \n",
      "386  38.0   4.   105.0      63.00      2125.      14.7   82.  1.\\t\"plymouth horizon miser\"           \n",
      "387  36.0   4.   98.00      70.00      2125.      17.3   82.  1.\\t\"mercury lynx l\"                   \n",
      "388  36.0   4.   120.0      88.00      2160.      14.5   82.  3.\\t\"nissan stanza xe\"                 \n",
      "389  36.0   4.   107.0      75.00      2205.      14.5   82.  3.\\t\"honda accord\"                     \n",
      "390  34.0   4.   108.0      70.00      2245       16.9   82.  3.\\t\"toyota corolla\"                   \n",
      "391  38.0   4.   91.00      67.00      1965.      15.0   82.  3.\\t\"honda civic\"                      \n",
      "392  32.0   4.   91.00      67.00      1965.      15.7   82.  3.\\t\"honda civic (auto)\"               \n",
      "393  38.0   4.   91.00      67.00      1995.      16.2   82.  3.\\t\"datsun 310 gx\"                    \n",
      "394  25.0   6.   181.0      110.0      2945.      16.4   82.  1.\\t\"buick century limited\"            \n",
      "395  38.0   6.   262.0      85.00      3015.      17.0   82.  1.\\t\"oldsmobile cutlass ciera (diesel)\"\n",
      "396  26.0   4.   156.0      92.00      2585.      14.5   82.  1.\\t\"chrysler lebaron medallion\"       \n",
      "397  22.0   6.   232.0      112.0      2835       14.7   82.  1.\\t\"ford granada l\"                   \n",
      "398  32.0   4.   144.0      96.00      2665.      13.9   82.  3.\\t\"toyota celica gt\"                 \n",
      "399  36.0   4.   135.0      84.00      2370.      13.0   82.  1.\\t\"dodge charger 2.2\"                \n",
      "400  27.0   4.   151.0      90.00      2950.      17.3   82.  1.\\t\"chevrolet camaro\"                 \n",
      "401  27.0   4.   140.0      86.00      2790.      15.6   82.  1.\\t\"ford mustang gl\"                  \n",
      "402  44.0   4.   97.00      52.00      2130.      24.6   82.  2.\\t\"vw pickup\"                        \n",
      "403  32.0   4.   135.0      84.00      2295.      11.6   82.  1.\\t\"dodge rampage\"                    \n",
      "404  28.0   4.   120.0      79.00      2625.      18.6   82.  1.\\t\"ford ranger\"                      \n",
      "405  31.0   4.   119.0      82.00      2720.      19.4   82.  1.\\t\"chevy s-10\"                       \n",
      "\n",
      "[406 rows x 1 columns]\n"
     ]
    }
   ],
   "source": [
    "# 1. mpg (miles per gallon):           continuous\n",
    "# 2. cylinders:     multi-valued discrete\n",
    "# 3. displacement:  continuous\n",
    "# 4. horsepower:    continuous\n",
    "# 5. weight:        continuous\n",
    "# 6. acceleration:  continuous\n",
    "# 7. model year:    multi-valued discrete\n",
    "# 8. origin:        multi-valued discrete\n",
    "# 9. car name:      string (unique for each instance)\n",
    "\n",
    "# Read csv\n",
    "pd.set_option('display.max_colwidth', 3)\n",
    "filedata = pd.read_csv(\"auto-mpg.data-original\", header=None)\n",
    "print(filedata)"
   ]
  },
  {
   "cell_type": "code",
   "execution_count": null,
   "metadata": {},
   "outputs": [],
   "source": []
  },
  {
   "cell_type": "code",
   "execution_count": null,
   "metadata": {},
   "outputs": [],
   "source": []
  }
 ],
 "metadata": {
  "kernelspec": {
   "display_name": "Python 3",
   "language": "python",
   "name": "python3"
  },
  "language_info": {
   "codemirror_mode": {
    "name": "ipython",
    "version": 3
   },
   "file_extension": ".py",
   "mimetype": "text/x-python",
   "name": "python",
   "nbconvert_exporter": "python",
   "pygments_lexer": "ipython3",
   "version": "3.7.1"
  }
 },
 "nbformat": 4,
 "nbformat_minor": 2
}
